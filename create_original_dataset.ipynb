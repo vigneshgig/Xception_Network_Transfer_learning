{
 "cells": [
  {
   "cell_type": "code",
   "execution_count": 2,
   "metadata": {},
   "outputs": [],
   "source": [
    "import numpy as np\n",
    "import cv2\n",
    "from PIL import Image\n",
    "import matplotlib.pyplot as plt\n",
    "import matplotlib.image as mpimg\n",
    "\n",
    "import h5py\n",
    "import glob\n",
    "import os"
   ]
  },
  {
   "cell_type": "code",
   "execution_count": 4,
   "metadata": {},
   "outputs": [],
   "source": [
    "path = list(glob.iglob(u'D:\\\\weddingcardsai\\\\monogram\\\\xxxxx\\\\full\\\\*.*'))\n"
   ]
  },
  {
   "cell_type": "code",
   "execution_count": 5,
   "metadata": {},
   "outputs": [
    {
     "data": {
      "text/plain": [
       "21872"
      ]
     },
     "execution_count": 5,
     "metadata": {},
     "output_type": "execute_result"
    }
   ],
   "source": [
    "len(path)"
   ]
  },
  {
   "cell_type": "code",
   "execution_count": 6,
   "metadata": {},
   "outputs": [],
   "source": [
    "pattern_shape = (len(path), 299, 299,3)"
   ]
  },
  {
   "cell_type": "code",
   "execution_count": 7,
   "metadata": {},
   "outputs": [
    {
     "data": {
      "text/plain": [
       "<HDF5 dataset \"monogram_img\": shape (21872, 299, 299, 3), type \"|i1\">"
      ]
     },
     "execution_count": 7,
     "metadata": {},
     "output_type": "execute_result"
    }
   ],
   "source": [
    "hdf5_file = h5py.File('D:/weddingcardsai/monogramcleaning.hdf5')\n",
    "hdf5_file.create_dataset(\"monogram_img\",pattern_shape,np.int8)"
   ]
  },
  {
   "cell_type": "code",
   "execution_count": 8,
   "metadata": {},
   "outputs": [
    {
     "name": "stdout",
     "output_type": "stream",
     "text": [
      "monogram data:1000/21872\n",
      "monogram data:2000/21872\n",
      "monogram data:3000/21872\n",
      "monogram data:4000/21872\n",
      "monogram data:5000/21872\n",
      "monogram data:6000/21872\n",
      "monogram data:7000/21872\n",
      "monogram data:8000/21872\n",
      "monogram data:9000/21872\n",
      "monogram data:10000/21872\n",
      "monogram data:11000/21872\n",
      "monogram data:12000/21872\n",
      "monogram data:13000/21872\n",
      "monogram data:14000/21872\n",
      "monogram data:15000/21872\n",
      "monogram data:16000/21872\n",
      "monogram data:17000/21872\n",
      "monogram data:18000/21872\n",
      "monogram data:19000/21872\n",
      "monogram data:20000/21872\n",
      "monogram data:21000/21872\n"
     ]
    }
   ],
   "source": [
    "for i in range(len(path)):\n",
    "    if i % 1000 == 0 and i > 1:\n",
    "        print('monogram data:{}/{}'.format(i, len(path)))\n",
    "    try:\n",
    "        addr = path[i]\n",
    "        img = cv2.imread(addr)\n",
    "        img = cv2.resize(img, (299, 299), interpolation=cv2.INTER_CUBIC)\n",
    "        img = cv2.cvtColor(img, cv.COLOR_BGR2RGB)\n",
    "    except:\n",
    "            try:\n",
    "                addr = u'\\\\\\\\?\\\\'+ addr\n",
    "                img = mpimg.imread(addr)\n",
    "                img = cv2.resize(img, (299, 299), interpolation=cv2.INTER_CUBIC)\n",
    "                img = cv2.cvtColor(img, cv2.COLOR_BGR2RGB)\n",
    "            except:\n",
    "                try:\n",
    "                   \n",
    "                    with open('D://weddingcardsai/monogram.txt', 'w+') as f:\n",
    "                        f.write(addr+'\\n')\n",
    "                    print(addr)\n",
    "                    with open(addr,'rb') as f:\n",
    "                        print('remove')\n",
    "                        os.remove(addr)\n",
    "                except:\n",
    "                    print('failed')\n",
    "                    print(addr)\n",
    "                    break\n",
    "                    hdf5-file.close()\n",
    "    hdf5_file[\"monogram_img\"][i, ...] = img[None]\n",
    "hdf5_file.close()"
   ]
  },
  {
   "cell_type": "code",
   "execution_count": 17,
   "metadata": {},
   "outputs": [],
   "source": []
  },
  {
   "cell_type": "code",
   "execution_count": null,
   "metadata": {},
   "outputs": [],
   "source": []
  },
  {
   "cell_type": "code",
   "execution_count": null,
   "metadata": {},
   "outputs": [],
   "source": []
  },
  {
   "cell_type": "code",
   "execution_count": 2,
   "metadata": {},
   "outputs": [],
   "source": []
  },
  {
   "cell_type": "code",
   "execution_count": 3,
   "metadata": {},
   "outputs": [],
   "source": []
  },
  {
   "cell_type": "code",
   "execution_count": 2,
   "metadata": {},
   "outputs": [],
   "source": []
  },
  {
   "cell_type": "code",
   "execution_count": null,
   "metadata": {},
   "outputs": [],
   "source": []
  },
  {
   "cell_type": "code",
   "execution_count": 4,
   "metadata": {},
   "outputs": [],
   "source": []
  },
  {
   "cell_type": "code",
   "execution_count": null,
   "metadata": {},
   "outputs": [],
   "source": []
  },
  {
   "cell_type": "code",
   "execution_count": null,
   "metadata": {},
   "outputs": [],
   "source": []
  },
  {
   "cell_type": "code",
   "execution_count": null,
   "metadata": {},
   "outputs": [],
   "source": []
  },
  {
   "cell_type": "code",
   "execution_count": null,
   "metadata": {},
   "outputs": [],
   "source": []
  }
 ],
 "metadata": {
  "kernelspec": {
   "display_name": "Python 3",
   "language": "python",
   "name": "python3"
  },
  "language_info": {
   "codemirror_mode": {
    "name": "ipython",
    "version": 3
   },
   "file_extension": ".py",
   "mimetype": "text/x-python",
   "name": "python",
   "nbconvert_exporter": "python",
   "pygments_lexer": "ipython3",
   "version": "3.6.7"
  }
 },
 "nbformat": 4,
 "nbformat_minor": 2
}
